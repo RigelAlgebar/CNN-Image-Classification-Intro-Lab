{
  "nbformat": 4,
  "nbformat_minor": 0,
  "metadata": {
    "colab": {
      "provenance": []
    },
    "kernelspec": {
      "name": "python3",
      "display_name": "Python 3"
    },
    "language_info": {
      "name": "python"
    }
  },
  "cells": [
    {
      "cell_type": "markdown",
      "source": [
        "![image.png](data:image/png;base64,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)"
      ],
      "metadata": {
        "id": "1xUhlPucqLuK"
      }
    },
    {
      "cell_type": "markdown",
      "source": [
        "# Lab | Enhancing CNN Performance for Cat and Dog Classification in a Startup Environment\n"
      ],
      "metadata": {
        "id": "Mz-SSr3qc3gF"
      }
    },
    {
      "cell_type": "markdown",
      "source": [
        "Welcome to the Computer Vision Startup Lab! In this lab, you'll simulate real-world scenarios faced by a computer vision startup. You'll work on improving a CNN model for cat and dog classification by performing data augmentation and hyperparameter optimization. This hands-on experience will help you understand practical challenges and solutions in deploying machine learning models.\n",
        "\n"
      ],
      "metadata": {
        "id": "QjXi7o_IdA8O"
      }
    },
    {
      "cell_type": "markdown",
      "source": [
        "<hr style=\"border: none; height: 2px; background-color: #e0e0e0; margin: 40px 0;\">\n"
      ],
      "metadata": {
        "id": "dDwEFHlNsXxZ"
      }
    },
    {
      "cell_type": "markdown",
      "source": [
        "<br>\n",
        "\n",
        "## Requirements\n",
        "\n",
        "1. Fork this repo.\n",
        "2. Clone this repo.\n",
        "3. Add your instructor and the class graders as collaborators to your repository. If you are unsure who your class graders are, ask your instructor or refer to the day 1 slide deck.\n",
        "4. In the repository, create a Java project and add the code for the following prompts.\n",
        "\n",
        "## Submission\n",
        "\n",
        "Once you finish the assignment, submit a URL link to your repository or your pull request in the field on Student Portal.\n",
        "\n",
        "<br>"
      ],
      "metadata": {
        "id": "DbhDoleArAkd"
      }
    },
    {
      "cell_type": "markdown",
      "source": [
        "<hr style=\"border: none; height: 2px; background-color: #e0e0e0; margin: 40px 0;\">\n"
      ],
      "metadata": {
        "id": "zxBb9cPnsZiD"
      }
    },
    {
      "cell_type": "markdown",
      "source": [
        "Welcome to the CatDog Startup Lab!\n",
        "\n",
        "Welcome to CatDog, the hottest startup in town valued at a cool catmillion dogllars! As a pre-seed, pre-revenue, and proudly pre-clients company, we're ambitiously venturing into the competitive world of computer vision with one goal in mind: to develop a state-of-the-art cat-dog classifier model that will leave fur-covered competitors in the dust.\n",
        "\n",
        "\n",
        "In this lab, you'll don the hat of a machine learning engineer at CatDog, tackling real-world scenarios that a budding tech company faces. You'll work on enhancing our existing CNN model for cat and dog classification by implementing data augmentation strategies and optimizing hyperparameters. This hands-on experience is designed to help you navigate the practical challenges of deploying machine learning models in a dynamic startup environment, all while having a bit of fun with our feline and canine friends!\n",
        "\n",
        "\n",
        "Get ready to unleash your coding prowess and contribute to making CatDog the next big thing in pet technology. Let’s embark on this purr-fectly exciting journey together!"
      ],
      "metadata": {
        "id": "xSCDj05sscr7"
      }
    },
    {
      "cell_type": "markdown",
      "source": [
        "<hr style=\"border: none; height: 2px; background-color: #e0e0e0; margin: 40px 0;\">\n"
      ],
      "metadata": {
        "id": "I0odql74sdOa"
      }
    },
    {
      "cell_type": "markdown",
      "source": [
        "## Table of Contents\n",
        "\n",
        "1. [Lab Overview](#lab-overview)\n",
        "2. [Scenario: Working in a Computer Vision Startup](#scenario-working-in-a-computer-vision-startup)\n",
        "3. [Dataset Introduction: Dogs vs. Cats](#dataset-introduction-dogs-vs-cats)\n",
        "4. [Task 1: Data Augmentation and Reporting](#task-1-data-augmentation-and-reporting)\n",
        "   - [Ticket CVS-101: Enhancing Model Performance with Data Augmentation](#ticket-cvs-101-enhancing-model-performance-with-data-augmentation)\n",
        "   - [Exercise 1.1: Completing Data Augmentation Functions](#exercise-11-completing-data-augmentation-functions)\n",
        "   - [Exercise 1.2: Making a Report of Findings](#exercise-12-making-a-report-of-findings)\n",
        "5. [Task 2: Hyperparameter Optimization and Model Architecture](#task-2-hyperparameter-optimization-and-model-architecture)\n",
        "   - [Ticket CVS-102: Automating Model Comparison with Hyperparameter Tuning](#ticket-cvs-102-automating-model-comparison-with-hyperparameter-tuning)\n",
        "   - [Exercise 2.1: Completing the create_model Function](#exercise-21-completing-the-createmodel-function)\n",
        "   - [Exercise 2.2: Training Multiple CNN Architectures](#exercise-22-training-multiple-cnn-architectures)\n",
        "   - [Exercise 2.3: Comparing Different Architectures](#exercise-23-comparing-different-architectures)\n",
        "6. [Submission Guidelines](#submission-guidelines)\n",
        "7. [Tips for Success](#tips-for-success)\n",
        "8. [Additional Resources](#additional-resources)\n"
      ],
      "metadata": {
        "id": "4T7MR6XxdD8e"
      }
    },
    {
      "cell_type": "markdown",
      "source": [
        "<hr style=\"border: none; height: 2px; background-color: #e0e0e0; margin: 40px 0;\">\n"
      ],
      "metadata": {
        "id": "Hm8P4tlksfig"
      }
    },
    {
      "cell_type": "markdown",
      "source": [
        "## Lab Overview\n",
        "In this lab, you'll undertake two primary tasks:\n",
        "\n",
        "Data Augmentation and Reporting: Enhance the existing CNN model's performance by implementing data augmentation techniques and reporting your findings.\n",
        "Hyperparameter Optimization and Model Architecture: Automate model comparisons by experimenting with different CNN architectures and hyperparameters, then report your observations.\n",
        "Each task is structured as a \"ticket\" you might receive in a real startup environment, complete with specific exercises to guide your progress.\n",
        "\n"
      ],
      "metadata": {
        "id": "tjH8oU9ndHCG"
      }
    },
    {
      "cell_type": "markdown",
      "source": [
        "Your Role: Machine Learning Engineer\n",
        "You are a machine learning engineer at CatDog. Our flagship service classifies images of cats and dogs with the precision that pet owners around the globe crave. However, the tech lead has identified performance issues with our existing model and has assigned you two critical tasks to enhance its accuracy and reliability.\n",
        "\n",
        "Tickets Assigned\n",
        "1. [TICKET CVS-101]: Enhance Model Performance through Data Augmentation\n",
        "\n",
        "   Objective: Improve the current cat-dog classification model by implementing data augmentation techniques to increase dataset diversity and model robustness. Utilize the provided functions to flip images vertically, rotate them by 90 degrees to the left and right, convert images to grayscale, normalize pixel values, and adjust image sizes as needed. After augmentation, train the model and compare its performance before and after applying these techniques. Finally, compile a short report on your findings.\n",
        "\n",
        "\n",
        "2. [TICKET CVS-102]: Automate Model Comparison via Hyperparameter Tuning\n",
        "   \n",
        "   Objective: Streamline the process of evaluating various CNN architectures by completing the create_model function. This function should allow dynamic addition of layers, definition of activation functions, and other hyperparameters to facilitate automated model comparisons. Train at least three different architectures using this function, compare their performances, and summarize your findings in a concise report.\n",
        "\n",
        "Special Note from the Tech Lead\n",
        "To ensure the effectiveness of our data augmentation strategy before scaling up, the tech lead has curated a subset dataset comprising 5,000 images—2,500 cats and 2,500 dogs. This subset will serve as our testing ground for augmentation techniques, allowing us to validate improvements in a controlled environment before applying them to our entire dataset.\n",
        "\n",
        "Remember: This subset is already provided to you, so focus on leveraging it to fine-tune our model's performance!"
      ],
      "metadata": {
        "id": "sWzXJryUdLlH"
      }
    },
    {
      "cell_type": "markdown",
      "source": [
        "<hr style=\"border: none; height: 2px; background-color: #e0e0e0; margin: 40px 0;\">\n"
      ],
      "metadata": {
        "id": "P8SutWEysiJX"
      }
    },
    {
      "cell_type": "markdown",
      "source": [
        "## Task 1: Data Augmentation and Model Training\n",
        "\n",
        "Ticket CVS-101: Enhancing Model Performance with Data Augmentation\n",
        "\n",
        "Objective: Address performance issues in the current CNN model by implementing data augmentation techniques. Specifically, you'll complete the provided image augmentation functions, apply them to the subset dataset of 5,000 images (2,500 cats and 2,500 dogs), train the model on both the original and augmented datasets, and compare their performance metrics to assess the effectiveness of the augmentation strategies.\n",
        "\n"
      ],
      "metadata": {
        "id": "qvxdWomsdgnD"
      }
    },
    {
      "cell_type": "markdown",
      "source": [
        "<hr style=\"border: none; height: 2px; background-color: #e0e0e0; margin: 40px 0;\">\n"
      ],
      "metadata": {
        "id": "Qzj55iCUsknj"
      }
    },
    {
      "cell_type": "markdown",
      "source": [
        "### Exercise 1.1: Completing Data Augmentation Functions\n",
        "\n",
        "\n",
        "Objective: Implement the provided data augmentation functions to enhance the dataset's diversity, which can help improve the model's generalization capabilities.\n",
        "\n",
        "Instructions:\n",
        "\n",
        "Review the Provided Functions:\n",
        "\n",
        "You are provided with starter code for several data augmentation functions. Your task is to complete these functions to perform specific transformations on the images.\n",
        "\n",
        "Functions to Complete:\n",
        "\n",
        "Flip Vertically Function\n",
        "Rotate Function\n",
        "Convert Image to Grayscale\n",
        "Normalize Image\n",
        "Adjust Image Size"
      ],
      "metadata": {
        "id": "OQjmUFjBd0jJ"
      }
    },
    {
      "cell_type": "code",
      "source": [
        "import numpy as np\n",
        "import cv2\n"
      ],
      "metadata": {
        "id": "fyhITEfvdsHq"
      },
      "execution_count": null,
      "outputs": []
    },
    {
      "cell_type": "code",
      "source": [
        "# Complete each of the TODO sections in the functions above using appropriate OpenCV (cv2) methods.\n",
        "\n",
        "\n",
        "def flip_vertically(image):\n",
        "    \"\"\"\n",
        "    Flips the image vertically.\n",
        "\n",
        "    Args:\n",
        "        image (numpy.ndarray): Input image.\n",
        "\n",
        "    Returns:\n",
        "        numpy.ndarray: Vertically flipped image.\n",
        "    \"\"\"\n",
        "    # TODO: Implement vertical flipping\n",
        "    pass\n",
        "\n",
        "\n",
        "def rotate_image(image, angle):\n",
        "    \"\"\"\n",
        "    Rotates the image by the given angle.\n",
        "\n",
        "    Args:\n",
        "        image (numpy.ndarray): Input image.\n",
        "        angle (float): Angle in degrees to rotate the image.\n",
        "\n",
        "    Returns:\n",
        "        numpy.ndarray: Rotated image.\n",
        "    \"\"\"\n",
        "    # TODO: Implement image rotation\n",
        "    pass\n",
        "\n",
        "\n",
        "def convert_to_grayscale(image):\n",
        "    \"\"\"\n",
        "    Converts the image to grayscale.\n",
        "\n",
        "    Args:\n",
        "        image (numpy.ndarray): Input image.\n",
        "\n",
        "    Returns:\n",
        "        numpy.ndarray: Grayscale image.\n",
        "    \"\"\"\n",
        "    # TODO: Implement conversion to grayscale\n",
        "    pass\n",
        "\n",
        "\n",
        "def normalize_image(image):\n",
        "    \"\"\"\n",
        "    Normalizes the image pixel values to the range [0, 1].\n",
        "\n",
        "    Args:\n",
        "        image (numpy.ndarray): Input image.\n",
        "\n",
        "    Returns:\n",
        "        numpy.ndarray: Normalized image.\n",
        "    \"\"\"\n",
        "    # TODO: Implement image normalization\n",
        "    pass\n",
        "\n"
      ],
      "metadata": {
        "id": "UMp_k7K4dzNp"
      },
      "execution_count": null,
      "outputs": []
    },
    {
      "cell_type": "code",
      "source": [
        "from tensorflow.keras import models, layers\n"
      ],
      "metadata": {
        "id": "SR6NsCG2ekzQ"
      },
      "execution_count": null,
      "outputs": []
    },
    {
      "cell_type": "markdown",
      "source": [
        "You are provided with a simple CNN model (simple_cnn_model) that includes one convolutional layer, one pooling layer, and one fully connected layer.\n",
        "\n"
      ],
      "metadata": {
        "id": "jV9X8K7RyWMu"
      }
    },
    {
      "cell_type": "code",
      "source": [
        "def simple_cnn_model(input_shape=(128, 128, 1)):\n",
        "    model = models.Sequential()\n",
        "    model.add(layers.Conv2D(32, (3,3), activation='relu', input_shape=input_shape))\n",
        "    model.add(layers.MaxPooling2D((2,2)))\n",
        "    model.add(layers.Flatten())\n",
        "    model.add(layers.Dense(64, activation='relu'))\n",
        "    model.add(layers.Dense(1, activation='sigmoid'))  # Binary classification\n",
        "    return model\n"
      ],
      "metadata": {
        "id": "Q80VuPMeeAnw"
      },
      "execution_count": null,
      "outputs": []
    },
    {
      "cell_type": "markdown",
      "source": [
        "Prepare the Dataset:\n",
        "\n",
        "- Resize Images: Adjust all images to a uniform size (e.g., 128x128) using the adjust_image_size function.\n",
        "\n",
        "- Apply Data Augmentation:\n",
        " - For each image in the training set, create augmented versions:\n",
        "  - Vertically flipped\n",
        "  - Rotated by 90 degrees to the left\n",
        "  - Rotated by 90 degrees to the right\n",
        "  - Converted to grayscale\n",
        "  - Normalize Images: Use the normalize_image function to scale pixel values.\n"
      ],
      "metadata": {
        "id": "YZ_9QMNofyXP"
      }
    },
    {
      "cell_type": "code",
      "source": [
        "# Load the dataset here\n"
      ],
      "metadata": {
        "id": "WeiS972MGfO9"
      },
      "execution_count": null,
      "outputs": []
    },
    {
      "cell_type": "code",
      "source": [
        "# Apply data augmentation to the training set\n",
        "augmented_images = []\n",
        "augmented_labels = []\n",
        "\n",
        "for img, label in zip(train_images_filtered, train_labels_binary):\n",
        "    # Normalize image\n",
        "    img_normalized = normalize_image(img_resized)\n",
        "\n",
        "    # Original image\n",
        "    augmented_images.append(img_normalized)\n",
        "    augmented_labels.append(label)\n",
        "\n",
        "    # Vertically flipped image\n",
        "    img_flipped = flip_vertically(img_resized)\n",
        "    img_flipped_normalized = normalize_image(img_flipped)\n",
        "    augmented_images.append(img_flipped_normalized)\n",
        "    augmented_labels.append(label)\n",
        "\n",
        "    # Rotated left\n",
        "    img_rotated_left = rotate_image(img_resized, direction='left')\n",
        "    img_rotated_left_normalized = normalize_image(img_rotated_left)\n",
        "    augmented_images.append(img_rotated_left_normalized)\n",
        "    augmented_labels.append(label)\n",
        "\n",
        "    # Rotated right\n",
        "    img_rotated_right = rotate_image(img_resized, direction='right')\n",
        "    img_rotated_right_normalized = normalize_image(img_rotated_right)\n",
        "    augmented_images.append(img_rotated_right_normalized)\n",
        "    augmented_labels.append(label)\n",
        "\n",
        "    # Grayscale image\n",
        "    img_gray = convert_to_grayscale(img_resized)\n",
        "    img_gray_normalized = normalize_image(img_gray)\n",
        "    augmented_images.append(img_gray_normalized)\n",
        "    augmented_labels.append(label)\n",
        "\n",
        "# Convert lists to numpy arrays\n",
        "augmented_images = np.array(augmented_images)\n",
        "augmented_labels = np.array(augmented_labels)\n"
      ],
      "metadata": {
        "id": "IQU5LkeZenQt"
      },
      "execution_count": null,
      "outputs": []
    },
    {
      "cell_type": "code",
      "source": [
        "from sklearn.utils import shuffle\n",
        "\n",
        "augmented_images, augmented_labels = shuffle(augmented_images, augmented_labels, random_state=42)\n"
      ],
      "metadata": {
        "id": "n9KP8knfhrvt"
      },
      "execution_count": null,
      "outputs": []
    },
    {
      "cell_type": "code",
      "source": [
        "# Instantiate the model\n",
        "model = simple_cnn_model(input_shape=(128, 128, 1))\n",
        "\n",
        "# Compile the model\n",
        "model.compile(optimizer='adam',\n",
        "              loss='binary_crossentropy',\n",
        "              metrics=['accuracy'])\n"
      ],
      "metadata": {
        "id": "-PeY8VloiEgp"
      },
      "execution_count": null,
      "outputs": []
    },
    {
      "cell_type": "code",
      "source": [
        "# Train the model with augmented data\n",
        "history = model.fit(augmented_images, augmented_labels, epochs=10,\n",
        "                    validation_data=(test_images_normalized, test_labels_binary))\n"
      ],
      "metadata": {
        "id": "ZBYC-Wp9iHuo"
      },
      "execution_count": null,
      "outputs": []
    },
    {
      "cell_type": "code",
      "source": [],
      "metadata": {
        "id": "PbbTVQc0iL4N"
      },
      "execution_count": null,
      "outputs": []
    },
    {
      "cell_type": "markdown",
      "source": [
        "### Exercise 1.2: Making a Report of Findings\n",
        "\n",
        "Objective: Analyze the impact of data augmentation on the CNN model's performance by comparing metrics before and after applying augmentation techniques. Compile your observations into a concise report."
      ],
      "metadata": {
        "id": "a4Hc-D0ayp2B"
      }
    },
    {
      "cell_type": "code",
      "source": [],
      "metadata": {
        "id": "wmLL5OJ_rXzz"
      },
      "execution_count": null,
      "outputs": []
    },
    {
      "cell_type": "markdown",
      "source": [
        "<hr style=\"border: none; height: 2px; background-color: #e0e0e0; margin: 40px 0;\">\n",
        "<br>\n",
        "<br>\n",
        "<br>"
      ],
      "metadata": {
        "id": "io3ejk_NspI6"
      }
    },
    {
      "cell_type": "markdown",
      "source": [
        "## Task 2: Hyperparameter Optimization and Model Architecture\n"
      ],
      "metadata": {
        "id": "vWQFyTCYrYur"
      }
    },
    {
      "cell_type": "markdown",
      "source": [
        "### Ticket CVS-202: Automating Model Comparison with Hyperparameter Tuning\n",
        "\n",
        "Objective: Enhance the flexibility and efficiency of model training by automating the creation of different CNN architectures. You'll complete the create_model function to allow dynamic addition of layers and activation functions, train multiple models with varying hyperparameters, and compare their performances."
      ],
      "metadata": {
        "id": "6tYX_xUdrd4a"
      }
    },
    {
      "cell_type": "markdown",
      "source": [
        "### Exercise 2.1: Completing the create_model Function\n",
        "\n",
        "Objective: Modify the create_model function to accept parameters that define the model's architecture, such as the number of convolutional layers, activation functions, number of filters, and other hyperparameters. This will facilitate automated experimentation with different model configurations."
      ],
      "metadata": {
        "id": "o0Pl-zahrket"
      }
    },
    {
      "cell_type": "code",
      "source": [
        "def create_model(num_conv_layers=1, num_filters=32, kernel_size=(3,3), activation='relu',\n",
        "                 pool_size=(2,2), dense_units=64, optimizer='adam'):\n",
        "    \"\"\"\n",
        "    Creates a CNN model based on the provided hyperparameters.\n",
        "\n",
        "    Args:\n",
        "        num_conv_layers (int): Number of convolutional layers.\n",
        "        num_filters (int): Number of filters in each convolutional layer.\n",
        "        kernel_size (tuple): Kernel size for convolutional layers.\n",
        "        activation (str): Activation function to use.\n",
        "        pool_size (tuple): Pool size for pooling layers.\n",
        "        dense_units (int): Number of units in the dense layer.\n",
        "        optimizer (str): Optimizer to use for compilation.\n",
        "\n",
        "    Returns:\n",
        "        tf.keras.Model: Compiled CNN model.\n",
        "    \"\"\"\n",
        "    model = models.Sequential()\n",
        "\n",
        "    # TODO: Add convolutional and pooling layers based on num_conv_layers\n",
        "    pass\n",
        "\n",
        "    # Flatten the output\n",
        "    model.add(layers.Flatten())\n",
        "\n",
        "    # Fully connected layer\n",
        "    model.add(layers.Dense(dense_units, activation=activation))\n",
        "\n",
        "    # Output layer\n",
        "    model.add(layers.Dense(1, activation='sigmoid'))\n",
        "\n",
        "    # Compile the model\n",
        "    model.compile(optimizer=optimizer,\n",
        "                  loss='binary_crossentropy',\n",
        "                  metrics=['accuracy'])\n",
        "\n",
        "    return model\n"
      ],
      "metadata": {
        "id": "JmebAJodrgqE"
      },
      "execution_count": null,
      "outputs": []
    },
    {
      "cell_type": "markdown",
      "source": [
        "### Exercise 2.2: Training Multiple CNN Architectures\n",
        "\n",
        "Now define and train at least 3 different architectures."
      ],
      "metadata": {
        "id": "EftAef9LHI9W"
      }
    },
    {
      "cell_type": "code",
      "source": [],
      "metadata": {
        "id": "1JSAr0iVrpDc"
      },
      "execution_count": null,
      "outputs": []
    },
    {
      "cell_type": "markdown",
      "source": [
        "### Exercise 2.3: Comparing Different Architectures\n",
        "\n",
        "Compare the performance of your architectures and make a report on the experiemnt and explain which one of them you choose to release for production."
      ],
      "metadata": {
        "id": "AHcjJKymHp7_"
      }
    },
    {
      "cell_type": "code",
      "source": [],
      "metadata": {
        "id": "RRegGnPpH8iO"
      },
      "execution_count": null,
      "outputs": []
    }
  ]
}